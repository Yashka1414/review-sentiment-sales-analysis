{
 "cells": [
  {
   "cell_type": "code",
   "execution_count": 1,
   "id": "f991ade9-b77d-414e-98f3-93ad3b683687",
   "metadata": {},
   "outputs": [
    {
     "data": {
      "text/html": [
       "<div>\n",
       "<style scoped>\n",
       "    .dataframe tbody tr th:only-of-type {\n",
       "        vertical-align: middle;\n",
       "    }\n",
       "\n",
       "    .dataframe tbody tr th {\n",
       "        vertical-align: top;\n",
       "    }\n",
       "\n",
       "    .dataframe thead th {\n",
       "        text-align: right;\n",
       "    }\n",
       "</style>\n",
       "<table border=\"1\" class=\"dataframe\">\n",
       "  <thead>\n",
       "    <tr style=\"text-align: right;\">\n",
       "      <th></th>\n",
       "      <th>Review</th>\n",
       "      <th>Sales</th>\n",
       "    </tr>\n",
       "  </thead>\n",
       "  <tbody>\n",
       "    <tr>\n",
       "      <th>0</th>\n",
       "      <td>This product is amazing, I love it!</td>\n",
       "      <td>500</td>\n",
       "    </tr>\n",
       "    <tr>\n",
       "      <th>1</th>\n",
       "      <td>Terrible experience. Not recommended.</td>\n",
       "      <td>150</td>\n",
       "    </tr>\n",
       "    <tr>\n",
       "      <th>2</th>\n",
       "      <td>Average quality, but okay for the price.</td>\n",
       "      <td>300</td>\n",
       "    </tr>\n",
       "    <tr>\n",
       "      <th>3</th>\n",
       "      <td>Excellent build and performance.</td>\n",
       "      <td>550</td>\n",
       "    </tr>\n",
       "    <tr>\n",
       "      <th>4</th>\n",
       "      <td>Worst product ever. Broke in a week.</td>\n",
       "      <td>100</td>\n",
       "    </tr>\n",
       "  </tbody>\n",
       "</table>\n",
       "</div>"
      ],
      "text/plain": [
       "                                     Review  Sales\n",
       "0       This product is amazing, I love it!    500\n",
       "1     Terrible experience. Not recommended.    150\n",
       "2  Average quality, but okay for the price.    300\n",
       "3          Excellent build and performance.    550\n",
       "4      Worst product ever. Broke in a week.    100"
      ]
     },
     "execution_count": 1,
     "metadata": {},
     "output_type": "execute_result"
    }
   ],
   "source": [
    "import pandas as pd\n",
    "\n",
    "# Fake product review data\n",
    "data = {\n",
    "    'Review': [\n",
    "        \"This product is amazing, I love it!\",\n",
    "        \"Terrible experience. Not recommended.\",\n",
    "        \"Average quality, but okay for the price.\",\n",
    "        \"Excellent build and performance.\",\n",
    "        \"Worst product ever. Broke in a week.\",\n",
    "        \"Very satisfied with this purchase.\",\n",
    "        \"Not good, not bad. Just okay.\",\n",
    "        \"High quality and fast delivery!\",\n",
    "        \"I’m disappointed. It stopped working.\",\n",
    "        \"Totally worth the money!\"\n",
    "    ],\n",
    "    'Sales': [500, 150, 300, 550, 100, 480, 320, 530, 180, 490]  # Sales numbers\n",
    "}\n",
    "\n",
    "df = pd.DataFrame(data)\n",
    "df.head()\n"
   ]
  },
  {
   "cell_type": "code",
   "execution_count": 6,
   "id": "373dc800-a2a0-4975-940e-8516d3bd991b",
   "metadata": {},
   "outputs": [
    {
     "data": {
      "text/html": [
       "<div>\n",
       "<style scoped>\n",
       "    .dataframe tbody tr th:only-of-type {\n",
       "        vertical-align: middle;\n",
       "    }\n",
       "\n",
       "    .dataframe tbody tr th {\n",
       "        vertical-align: top;\n",
       "    }\n",
       "\n",
       "    .dataframe thead th {\n",
       "        text-align: right;\n",
       "    }\n",
       "</style>\n",
       "<table border=\"1\" class=\"dataframe\">\n",
       "  <thead>\n",
       "    <tr style=\"text-align: right;\">\n",
       "      <th></th>\n",
       "      <th>Review</th>\n",
       "      <th>Sales</th>\n",
       "      <th>Sentiment</th>\n",
       "    </tr>\n",
       "  </thead>\n",
       "  <tbody>\n",
       "    <tr>\n",
       "      <th>0</th>\n",
       "      <td>This product is amazing, I love it!</td>\n",
       "      <td>500</td>\n",
       "      <td>2</td>\n",
       "    </tr>\n",
       "    <tr>\n",
       "      <th>1</th>\n",
       "      <td>Terrible experience. Not recommended.</td>\n",
       "      <td>150</td>\n",
       "      <td>-2</td>\n",
       "    </tr>\n",
       "    <tr>\n",
       "      <th>2</th>\n",
       "      <td>Average quality, but okay for the price.</td>\n",
       "      <td>300</td>\n",
       "      <td>0</td>\n",
       "    </tr>\n",
       "    <tr>\n",
       "      <th>3</th>\n",
       "      <td>Excellent build and performance.</td>\n",
       "      <td>550</td>\n",
       "      <td>1</td>\n",
       "    </tr>\n",
       "    <tr>\n",
       "      <th>4</th>\n",
       "      <td>Worst product ever. Broke in a week.</td>\n",
       "      <td>100</td>\n",
       "      <td>-2</td>\n",
       "    </tr>\n",
       "  </tbody>\n",
       "</table>\n",
       "</div>"
      ],
      "text/plain": [
       "                                     Review  Sales  Sentiment\n",
       "0       This product is amazing, I love it!    500          2\n",
       "1     Terrible experience. Not recommended.    150         -2\n",
       "2  Average quality, but okay for the price.    300          0\n",
       "3          Excellent build and performance.    550          1\n",
       "4      Worst product ever. Broke in a week.    100         -2"
      ]
     },
     "execution_count": 6,
     "metadata": {},
     "output_type": "execute_result"
    }
   ],
   "source": [
    "# Simple sentiment logic: +1 for good words, -1 for bad words\n",
    "def basic_sentiment(text):\n",
    "    text = text.lower()\n",
    "    positive_words = ['amazing', 'love', 'excellent', 'satisfied', 'good', 'worth', 'high quality']\n",
    "    negative_words = ['terrible', 'worst', 'disappointed', 'broke', 'not recommended']\n",
    "\n",
    "    score = 0\n",
    "    for word in positive_words:\n",
    "        if word in text:\n",
    "            score += 1\n",
    "    for word in negative_words:\n",
    "        if word in text:\n",
    "            score -= 1\n",
    "\n",
    "    return score\n",
    "\n",
    "# Apply the function to each review\n",
    "df['Sentiment'] = df['Review'].apply(basic_sentiment)\n",
    "df.head()\n"
   ]
  },
  {
   "cell_type": "code",
   "execution_count": 7,
   "id": "cadb96be-ca7a-4f0f-b7a2-fb3f5bf5131e",
   "metadata": {},
   "outputs": [
    {
     "data": {
      "image/png": "[encoded data removed]",
      "text/plain": [
       "<Figure size 640x480 with 1 Axes>"
      ]
     },
     "metadata": {},
     "output_type": "display_data"
    }
   ],
   "source": [
    "import matplotlib.pyplot as plt\n",
    "\n",
    "plt.scatter(df['Sentiment'], df['Sales'], color='green')\n",
    "plt.title(\"Sentiment Score vs Sales\")\n",
    "plt.xlabel(\"Sentiment Score\")\n",
    "plt.ylabel(\"Sales\")\n",
    "plt.grid(True)\n",
    "plt.show()\n"
   ]
  },
  {
   "cell_type": "code",
   "execution_count": 8,
   "id": "2bb2a541-3070-4a0a-aba9-e4b5c4ae1d1c",
   "metadata": {},
   "outputs": [
    {
     "name": "stdout",
     "output_type": "stream",
     "text": [
      "Correlation between Sentiment and Sales: 0.9118494329957565\n"
     ]
    }
   ],
   "source": [
    "correlation = df['Sentiment'].corr(df['Sales'])\n",
    "print(\"Correlation between Sentiment and Sales:\", correlation)\n"
   ]
  },
  {
   "cell_type": "code",
   "execution_count": null,
   "id": "2c68c96f-cea5-4486-80df-684a346837db",
   "metadata": {},
   "outputs": [],
   "source": []
  }
 ],
 "metadata": {
  "kernelspec": {
   "display_name": "Python 3 (ipykernel)",
   "language": "python",
   "name": "python3"
  },
  "language_info": {
   "codemirror_mode": {
    "name": "ipython",
    "version": 3
   },
   "file_extension": ".py",
   "mimetype": "text/x-python",
   "name": "python",
   "nbconvert_exporter": "python",
   "pygments_lexer": "ipython3",
   "version": "3.13.5"
  }
 },
 "nbformat": 4,
 "nbformat_minor": 5
}
